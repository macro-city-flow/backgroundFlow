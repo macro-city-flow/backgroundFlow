{
 "cells": [
  {
   "cell_type": "code",
   "execution_count": 1,
   "metadata": {},
   "outputs": [],
   "source": [
    "from statsmodels.tsa.arima.model import ARIMA\n",
    "from math import sin,pi\n",
    "# from numpy import sin,pi\n",
    "from pandas import date_range\n",
    "from matplotlib.pyplot import show"
   ]
  },
  {
   "cell_type": "markdown",
   "metadata": {},
   "source": [
    "Generate the data sequence...."
   ]
  },
  {
   "cell_type": "code",
   "execution_count": 2,
   "metadata": {},
   "outputs": [],
   "source": [
    "x = [sin(0.1*_*pi) for _ in range(200)]"
   ]
  },
  {
   "cell_type": "code",
   "execution_count": 7,
   "metadata": {},
   "outputs": [],
   "source": [
    "model = ARIMA(x,order=(1,1,6))"
   ]
  },
  {
   "cell_type": "code",
   "execution_count": 8,
   "metadata": {},
   "outputs": [
    {
     "name": "stderr",
     "output_type": "stream",
     "text": [
      "/home/z3al0man/anaconda3/envs/routine/lib/python3.7/site-packages/statsmodels/tsa/statespace/sarimax.py:978: UserWarning: Non-invertible starting MA parameters found. Using zeros as starting parameters.\n",
      "  warn('Non-invertible starting MA parameters found.'\n"
     ]
    }
   ],
   "source": [
    "res = model.fit()"
   ]
  },
  {
   "cell_type": "code",
   "execution_count": 9,
   "metadata": {},
   "outputs": [
    {
     "data": {
      "text/html": [
       "<table class=\"simpletable\">\n",
       "<caption>SARIMAX Results</caption>\n",
       "<tr>\n",
       "  <th>Dep. Variable:</th>           <td>y</td>        <th>  No. Observations:  </th>    <td>200</td>   \n",
       "</tr>\n",
       "<tr>\n",
       "  <th>Model:</th>            <td>ARIMA(1, 1, 4)</td>  <th>  Log Likelihood     </th>  <td>764.611</td> \n",
       "</tr>\n",
       "<tr>\n",
       "  <th>Date:</th>            <td>Wed, 08 Dec 2021</td> <th>  AIC                </th> <td>-1517.221</td>\n",
       "</tr>\n",
       "<tr>\n",
       "  <th>Time:</th>                <td>16:48:13</td>     <th>  BIC                </th> <td>-1497.461</td>\n",
       "</tr>\n",
       "<tr>\n",
       "  <th>Sample:</th>                  <td>0</td>        <th>  HQIC               </th> <td>-1509.224</td>\n",
       "</tr>\n",
       "<tr>\n",
       "  <th></th>                      <td> - 200</td>      <th>                     </th>     <td> </td>    \n",
       "</tr>\n",
       "<tr>\n",
       "  <th>Covariance Type:</th>        <td>opg</td>       <th>                     </th>     <td> </td>    \n",
       "</tr>\n",
       "</table>\n",
       "<table class=\"simpletable\">\n",
       "<tr>\n",
       "     <td></td>       <th>coef</th>     <th>std err</th>      <th>z</th>      <th>P>|z|</th>  <th>[0.025</th>    <th>0.975]</th>  \n",
       "</tr>\n",
       "<tr>\n",
       "  <th>ar.L1</th>  <td>    0.9478</td> <td>    0.030</td> <td>   31.871</td> <td> 0.000</td> <td>    0.890</td> <td>    1.006</td>\n",
       "</tr>\n",
       "<tr>\n",
       "  <th>ma.L1</th>  <td>    3.9140</td> <td>    0.478</td> <td>    8.194</td> <td> 0.000</td> <td>    2.978</td> <td>    4.850</td>\n",
       "</tr>\n",
       "<tr>\n",
       "  <th>ma.L2</th>  <td>    5.8019</td> <td>    1.407</td> <td>    4.123</td> <td> 0.000</td> <td>    3.044</td> <td>    8.560</td>\n",
       "</tr>\n",
       "<tr>\n",
       "  <th>ma.L3</th>  <td>    3.8605</td> <td>    1.422</td> <td>    2.716</td> <td> 0.007</td> <td>    1.074</td> <td>    6.647</td>\n",
       "</tr>\n",
       "<tr>\n",
       "  <th>ma.L4</th>  <td>    0.9729</td> <td>    0.491</td> <td>    1.980</td> <td> 0.048</td> <td>    0.010</td> <td>    1.936</td>\n",
       "</tr>\n",
       "<tr>\n",
       "  <th>sigma2</th> <td> 2.165e-05</td> <td> 1.13e-05</td> <td>    1.908</td> <td> 0.056</td> <td>-5.89e-07</td> <td> 4.39e-05</td>\n",
       "</tr>\n",
       "</table>\n",
       "<table class=\"simpletable\">\n",
       "<tr>\n",
       "  <th>Ljung-Box (L1) (Q):</th>     <td>176.75</td> <th>  Jarque-Bera (JB):  </th> <td>18.84</td>\n",
       "</tr>\n",
       "<tr>\n",
       "  <th>Prob(Q):</th>                 <td>0.00</td>  <th>  Prob(JB):          </th> <td>0.00</td> \n",
       "</tr>\n",
       "<tr>\n",
       "  <th>Heteroskedasticity (H):</th>  <td>0.95</td>  <th>  Skew:              </th> <td>-0.02</td>\n",
       "</tr>\n",
       "<tr>\n",
       "  <th>Prob(H) (two-sided):</th>     <td>0.83</td>  <th>  Kurtosis:          </th> <td>1.49</td> \n",
       "</tr>\n",
       "</table><br/><br/>Warnings:<br/>[1] Covariance matrix calculated using the outer product of gradients (complex-step)."
      ],
      "text/plain": [
       "<class 'statsmodels.iolib.summary.Summary'>\n",
       "\"\"\"\n",
       "                               SARIMAX Results                                \n",
       "==============================================================================\n",
       "Dep. Variable:                      y   No. Observations:                  200\n",
       "Model:                 ARIMA(1, 1, 4)   Log Likelihood                 764.611\n",
       "Date:                Wed, 08 Dec 2021   AIC                          -1517.221\n",
       "Time:                        16:48:13   BIC                          -1497.461\n",
       "Sample:                             0   HQIC                         -1509.224\n",
       "                                - 200                                         \n",
       "Covariance Type:                  opg                                         \n",
       "==============================================================================\n",
       "                 coef    std err          z      P>|z|      [0.025      0.975]\n",
       "------------------------------------------------------------------------------\n",
       "ar.L1          0.9478      0.030     31.871      0.000       0.890       1.006\n",
       "ma.L1          3.9140      0.478      8.194      0.000       2.978       4.850\n",
       "ma.L2          5.8019      1.407      4.123      0.000       3.044       8.560\n",
       "ma.L3          3.8605      1.422      2.716      0.007       1.074       6.647\n",
       "ma.L4          0.9729      0.491      1.980      0.048       0.010       1.936\n",
       "sigma2      2.165e-05   1.13e-05      1.908      0.056   -5.89e-07    4.39e-05\n",
       "===================================================================================\n",
       "Ljung-Box (L1) (Q):                 176.75   Jarque-Bera (JB):                18.84\n",
       "Prob(Q):                              0.00   Prob(JB):                         0.00\n",
       "Heteroskedasticity (H):               0.95   Skew:                            -0.02\n",
       "Prob(H) (two-sided):                  0.83   Kurtosis:                         1.49\n",
       "===================================================================================\n",
       "\n",
       "Warnings:\n",
       "[1] Covariance matrix calculated using the outer product of gradients (complex-step).\n",
       "\"\"\""
      ]
     },
     "execution_count": 9,
     "metadata": {},
     "output_type": "execute_result"
    }
   ],
   "source": [
    "res.summary()"
   ]
  },
  {
   "cell_type": "code",
   "execution_count": 11,
   "metadata": {},
   "outputs": [],
   "source": [
    "pred_x =res.predict()"
   ]
  }
 ],
 "metadata": {
  "interpreter": {
   "hash": "e34fa64a74775fb4f67f811cb5963b414978dc5be215892f953774eacba10e68"
  },
  "kernelspec": {
   "display_name": "Python 3.7.9 64-bit ('routine': conda)",
   "name": "python3"
  },
  "language_info": {
   "codemirror_mode": {
    "name": "ipython",
    "version": 3
   },
   "file_extension": ".py",
   "mimetype": "text/x-python",
   "name": "python",
   "nbconvert_exporter": "python",
   "pygments_lexer": "ipython3",
   "version": "3.7.9"
  },
  "orig_nbformat": 4
 },
 "nbformat": 4,
 "nbformat_minor": 2
}
