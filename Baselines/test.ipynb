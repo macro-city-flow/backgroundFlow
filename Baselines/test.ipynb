{
 "cells": [
  {
   "cell_type": "code",
   "execution_count": 35,
   "metadata": {},
   "outputs": [],
   "source": [
    "from statsmodels.tsa.arima.model import ARIMA\n",
    "from math import sin,pi\n",
    "# from numpy import sin,pi\n",
    "from pandas import date_range\n",
    "from matplotlib.pyplot import show"
   ]
  },
  {
   "cell_type": "markdown",
   "metadata": {},
   "source": [
    "Generate the data sequence...."
   ]
  },
  {
   "cell_type": "code",
   "execution_count": 27,
   "metadata": {},
   "outputs": [],
   "source": [
    "x = [sin(0.1*_*pi) for _ in range(200)]"
   ]
  },
  {
   "cell_type": "code",
   "execution_count": 28,
   "metadata": {},
   "outputs": [],
   "source": [
    "model = ARIMA(x)"
   ]
  }
 ],
 "metadata": {
  "interpreter": {
   "hash": "e34fa64a74775fb4f67f811cb5963b414978dc5be215892f953774eacba10e68"
  },
  "kernelspec": {
   "display_name": "Python 3.7.9 64-bit ('routine': conda)",
   "name": "python3"
  },
  "language_info": {
   "codemirror_mode": {
    "name": "ipython",
    "version": 3
   },
   "file_extension": ".py",
   "mimetype": "text/x-python",
   "name": "python",
   "nbconvert_exporter": "python",
   "pygments_lexer": "ipython3",
   "version": "3.7.9"
  },
  "orig_nbformat": 4
 },
 "nbformat": 4,
 "nbformat_minor": 2
}