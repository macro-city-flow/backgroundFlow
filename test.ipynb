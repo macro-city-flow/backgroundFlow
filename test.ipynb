{
 "cells": [
  {
   "cell_type": "code",
   "execution_count": 2,
   "metadata": {},
   "outputs": [],
   "source": [
    "import numpy as np\n",
    "import torch\n",
    "from torch import distributions"
   ]
  },
  {
   "cell_type": "code",
   "execution_count": 3,
   "metadata": {},
   "outputs": [],
   "source": [
    "mu = torch.FloatTensor([[2,3,5],[2,3,5]])\n",
    "sigma = torch.FloatTensor([[1,1,1],[1,1,1]])\n",
    "weights = torch.FloatTensor([[0.33,0.33,0.34],[0.33,0.33,0.34]])"
   ]
  },
  {
   "cell_type": "code",
   "execution_count": 4,
   "metadata": {},
   "outputs": [],
   "source": [
    "k = torch.multinomial(weights,num_samples=3,replacement=True)"
   ]
  },
  {
   "cell_type": "code",
   "execution_count": 5,
   "metadata": {},
   "outputs": [
    {
     "data": {
      "text/plain": [
       "tensor([[2, 1, 2],\n",
       "        [1, 0, 2]])"
      ]
     },
     "execution_count": 5,
     "metadata": {},
     "output_type": "execute_result"
    }
   ],
   "source": [
    "k"
   ]
  },
  {
   "cell_type": "code",
   "execution_count": 6,
   "metadata": {},
   "outputs": [
    {
     "data": {
      "text/plain": [
       "tensor([[1.0755, 3.0750, 5.4765],\n",
       "        [1.8220, 4.2122, 4.5775]])"
      ]
     },
     "execution_count": 6,
     "metadata": {},
     "output_type": "execute_result"
    }
   ],
   "source": [
    "torch.normal(mu,sigma)"
   ]
  },
  {
   "cell_type": "code",
   "execution_count": 7,
   "metadata": {},
   "outputs": [],
   "source": [
    "a = np.zeros([3,3,6])"
   ]
  },
  {
   "cell_type": "code",
   "execution_count": 8,
   "metadata": {},
   "outputs": [],
   "source": [
    "for _ in range(3):\n",
    "    for __ in range(3):\n",
    "        for ___ in range(6):\n",
    "            a[_][__][___]=_*18+__*6+___"
   ]
  },
  {
   "cell_type": "code",
   "execution_count": 9,
   "metadata": {},
   "outputs": [
    {
     "data": {
      "text/plain": [
       "array([[[12., 13., 14., 15., 16., 17.],\n",
       "        [24., 25., 26., 27., 28., 29.],\n",
       "        [48., 49., 50., 51., 52., 53.]],\n",
       "\n",
       "       [[ 6.,  7.,  8.,  9., 10., 11.],\n",
       "        [18., 19., 20., 21., 22., 23.],\n",
       "        [48., 49., 50., 51., 52., 53.]]])"
      ]
     },
     "execution_count": 9,
     "metadata": {},
     "output_type": "execute_result"
    }
   ],
   "source": [
    "a[np.arange(3),k]"
   ]
  },
  {
   "cell_type": "code",
   "execution_count": 10,
   "metadata": {},
   "outputs": [
    {
     "data": {
      "text/plain": [
       "array([[[ 0.,  1.,  2.,  3.,  4.,  5.],\n",
       "        [ 6.,  7.,  8.,  9., 10., 11.],\n",
       "        [12., 13., 14., 15., 16., 17.]],\n",
       "\n",
       "       [[18., 19., 20., 21., 22., 23.],\n",
       "        [24., 25., 26., 27., 28., 29.],\n",
       "        [30., 31., 32., 33., 34., 35.]],\n",
       "\n",
       "       [[36., 37., 38., 39., 40., 41.],\n",
       "        [42., 43., 44., 45., 46., 47.],\n",
       "        [48., 49., 50., 51., 52., 53.]]])"
      ]
     },
     "execution_count": 10,
     "metadata": {},
     "output_type": "execute_result"
    }
   ],
   "source": [
    "a"
   ]
  }
 ],
 "metadata": {
  "interpreter": {
   "hash": "a3c76de63d825a1ca61a87726822b48eacd9a8ab5084f44953ccb56977000610"
  },
  "kernelspec": {
   "display_name": "Python 3.9.0 64-bit ('torch': conda)",
   "name": "python3"
  },
  "language_info": {
   "codemirror_mode": {
    "name": "ipython",
    "version": 3
   },
   "file_extension": ".py",
   "mimetype": "text/x-python",
   "name": "python",
   "nbconvert_exporter": "python",
   "pygments_lexer": "ipython3",
   "version": "3.9.0"
  },
  "orig_nbformat": 4
 },
 "nbformat": 4,
 "nbformat_minor": 2
}